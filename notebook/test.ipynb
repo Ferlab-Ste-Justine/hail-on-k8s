{
 "cells": [
  {
   "cell_type": "markdown",
   "id": "670871ad-fda9-4b9e-b271-82d045619097",
   "metadata": {},
   "source": [
    "## Initialize spark context\n",
    "This code will create a spark cluster on k8s with 3 executor. It also configured S3 hadoop client (using S3A). Both schemes s3a and s3 are supported. After pagraph below ran, you can check taht executors have been created by running `kubectl get po`. Expected output :\n",
    "```\n",
    "NAME                              READY   STATUS      RESTARTS   AGE\n",
    "minio                             1/1     Running     0          9m1s\n",
    "spark-2f2b6f90ef906e54-exec-1     1/1     Running     0          50s\n",
    "spark-2f2b6f90ef906e54-exec-2     1/1     Running     0          48s\n",
    "spark-2f2b6f90ef906e54-exec-3     1/1     Running     0          48s\n",
    "spark-master-87999d7db-zg72s      1/1     Running     0          13m\n",
    "```"
   ]
  },
  {
   "cell_type": "code",
   "id": "f5ad5789-ca46-4fcf-805c-3d47f0db1044",
   "metadata": {},
   "source": [
    "from pyspark.sql import SparkSession\n",
    "from pyspark.sql import functions\n",
    "\n",
    "spark = SparkSession.builder.master(\"k8s://https://kubernetes.default.svc.cluster.local:443\") \\\n",
    "                            .appName(\"spark\") \\\n",
    "                            .config('spark.driver.extraJavaOptions', '-Divy.cache.dir=/tmp -Divy.home=/tmp') \\\n",
    "                            .config('spark.kubernetes.file.upload.path', 's3://hail/spark') \\\n",
    "                            .config(\"spark.jars.packages\", \"org.apache.hadoop:hadoop-aws:3.3.4\") \\\n",
    "                            .config('spark.hadoop.fs.AbstractFileSystem.s3.impl', 'org.apache.hadoop.fs.s3a.S3A') \\\n",
    "                            .config('spark.hadoop.fs.s3.impl', 'org.apache.hadoop.fs.s3a.S3AFileSystem') \\\n",
    "                            .config('spark.hadoop.fs.s3a.fast.upload', 'true') \\\n",
    "                            .config('spark.hadoop.fs.s3a.connection.ssl.enabled', 'true') \\\n",
    "                            .config('spark.hadoop.fs.s3a.path.style.access', 'true') \\\n",
    "                            .config('spark.hadoop.fs.s3a.endpoint', 'http://minio:9000') \\\n",
    "                            .config('spark.hadoop.fs.s3a.access.key', 'minioadmin') \\\n",
    "                            .config('spark.hadoop.fs.s3a.secret.key', 'minioadmin') \\\n",
    "                            .config(\"spark.executor.instances\", 3) \\\n",
    "                            .config(\"spark.submit.deployMode\", \"client\") \\\n",
    "                            .config(\"spark.driver.host\", \"spark-master\") \\\n",
    "                            .config(\"spark.driver.port\", \"8002\") \\\n",
    "                            .config(\"spark.blockManager.port\", \"8001\") \\\n",
    "                            .config(\"spark.kubernetes.namespace\", \"default\") \\\n",
    "                            .config(\"spark.kubernetes.container.image\", \"ferlabcrsj/hail\") \\\n",
    "                            .config(\"spark.kubernetes.container.image.pullPolicy\", \"Never\") \\\n",
    "                            .config(\"spark.kubernetes.authenticate.driver.serviceAccountName\", \"spark\") \\\n",
    "                            .config(\"spark.kubernetes.authenticate.executor.serviceAccountName\", \"spark\") \\\n",
    "                            .config(\"spark.serializer\", \"org.apache.spark.serializer.KryoSerializer\") \\\n",
    "                            .config(\"spark.kryo.registrator\", \"is.hail.kryo.HailKryoRegistrator\") \\\n",
    "                            .getOrCreate()"
   ],
   "outputs": [],
   "execution_count": null
  },
  {
   "cell_type": "markdown",
   "id": "7c49f371-2fea-4659-8463-f3617c63245a",
   "metadata": {},
   "source": [
    "## Initialize hail with the spark context previously created"
   ]
  },
  {
   "cell_type": "code",
   "id": "210be7dd-f660-4808-975c-cd4dca3ddea7",
   "metadata": {},
   "source": [
    "import hail as hl\n",
    "hl.init(sc=spark.sparkContext)  \n",
    "hl.balding_nichols_model(3, 1000, 1000).show()\n"
   ],
   "outputs": [],
   "execution_count": null
  },
  {
   "cell_type": "markdown",
   "id": "a228ce11-fc1a-47a3-a831-3d9b602d2b07",
   "metadata": {},
   "source": [
    "## Read a file using s3a scheme"
   ]
  },
  {
   "cell_type": "code",
   "id": "48e03cb2-4fee-4406-845e-0788429a437b",
   "metadata": {},
   "source": [
    "spark.read.text('s3a://hail/gvcf/*.gvcf.gz').limit(10).toPandas()"
   ],
   "outputs": [],
   "execution_count": null
  },
  {
   "cell_type": "markdown",
   "id": "d0eb0e55-4725-4d6e-8ac3-ed50a6cdb501",
   "metadata": {},
   "source": [
    "## Read a file using s3 scheme"
   ]
  },
  {
   "cell_type": "code",
   "id": "8aa79635-836b-47cd-95d2-a6b9dc60c704",
   "metadata": {},
   "source": [
    "spark.read.text('s3://hail/gvcf/*.gvcf.gz').limit(10).toPandas()"
   ],
   "outputs": [],
   "execution_count": null
  },
  {
   "cell_type": "markdown",
   "id": "e76c3b7b-0117-425f-88cf-3632db3242a4",
   "metadata": {},
   "source": [
    "## Combine gVCF with Hail\n",
    "gVCF files are in objectstore.The VDS will also be stored in object store."
   ]
  },
  {
   "cell_type": "code",
   "id": "b5766316-d793-4038-b914-37884e009088",
   "metadata": {},
   "source": [
    "combiner = hl.vds.new_combiner(\n",
    "    output_path='s3://hail/vds/dataset.vds',\n",
    "    temp_path='s3://hail/tmp',\n",
    "    gvcf_paths=['s3://hail/gvcf/S16907_downsamples.gvcf.gz', 's3://hail/gvcf/S19635_downsamples.gvcf.gz', 's3://hail/gvcf/S19636_downsamples.gvcf.gz'],\n",
    "    use_genome_default_intervals=True,\n",
    "    reference_genome=hl.get_reference('GRCh38')\n",
    ")"
   ],
   "outputs": [],
   "execution_count": null
  },
  {
   "cell_type": "code",
   "id": "ea53e9c9-2358-41d8-a8b6-4d82787126cc",
   "metadata": {},
   "source": [
    "combiner.run()"
   ],
   "outputs": [],
   "execution_count": null
  },
  {
   "cell_type": "code",
   "id": "499cd86a-51b6-4b3a-aa41-c9008f5be291",
   "metadata": {},
   "source": [
    "vds = hl.vds.read_vds('s3://hail/vds/dataset.vds')"
   ],
   "outputs": [],
   "execution_count": null
  },
  {
   "cell_type": "code",
   "id": "187fe374-17ba-4553-b5d9-90d5a5453304",
   "metadata": {},
   "source": [
    "smt = hl.vds.to_merged_sparse_mt(vds, ref_allele_function=lambda locus: hl.missing('str'))"
   ],
   "outputs": [],
   "execution_count": null
  },
  {
   "cell_type": "code",
   "id": "f9d9e533-e14c-46f7-9b41-0ca4911cc9f4",
   "metadata": {},
   "source": [
    "smt.show()"
   ],
   "outputs": [],
   "execution_count": null
  },
  {
   "cell_type": "markdown",
   "id": "aedf05d4-0dbb-408a-8e15-9ffafcd8c619",
   "metadata": {},
   "source": [
    "## Stop Spark context"
   ]
  },
  {
   "cell_type": "code",
   "id": "29425309-c8a4-468d-a86e-830df5f5c9ec",
   "metadata": {},
   "source": [
    "spark.stop()"
   ],
   "outputs": [],
   "execution_count": null
  },
  {
   "cell_type": "code",
   "id": "6c7947cd-295c-446f-8dff-d64b727a1dfe",
   "metadata": {},
   "source": [],
   "outputs": [],
   "execution_count": null
  }
 ],
 "metadata": {
  "kernelspec": {
   "display_name": "Python 3 (ipykernel)",
   "language": "python",
   "name": "python3"
  },
  "language_info": {
   "codemirror_mode": {
    "name": "ipython",
    "version": 3
   },
   "file_extension": ".py",
   "mimetype": "text/x-python",
   "name": "python",
   "nbconvert_exporter": "python",
   "pygments_lexer": "ipython3",
   "version": "3.10.12"
  }
 },
 "nbformat": 4,
 "nbformat_minor": 5
}
